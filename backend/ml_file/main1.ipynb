{
 "cells": [
  {
   "cell_type": "code",
   "execution_count": 1,
   "id": "6790b76f",
   "metadata": {},
   "outputs": [],
   "source": [
    "import joblib\n",
    "from joblib import load\n",
    "import operation as op"
   ]
  },
  {
   "cell_type": "code",
   "execution_count": 2,
   "id": "e2192b44",
   "metadata": {},
   "outputs": [],
   "source": [
    "model=joblib.load('model_BC_bsf.joblib')"
   ]
  },
  {
   "cell_type": "markdown",
   "id": "99ed49ca",
   "metadata": {},
   "source": [
    "**BC**\n",
    "\n",
    "1. Lipid Profile\n",
    "2. Glucose Fasting (BSF)\n",
    "3. HbA1C (Glycosylated Haemoglobin)\n",
    "4. Thyroid Profile Total\n",
    "5. Kidney Function Test (KFT)\n",
    "6. Vitamin D 25 Hydroxy\n",
    "7. Vitamin B12 / Cyanocobalamin\n",
    "8. Iron Studies\n",
    "9. Creatinine\n",
    "10. TSH 3rd Generation\n",
    "\n",
    "**HM**\n",
    "1. Complete Blood Count (CBC)\n",
    "2. Erythrocyte Sedimentation Rate (ESR)\n",
    "3. Blood Group ABO & Rh Typing\n",
    "4. Peripheral Smear / General Blood Picture\n",
    "\n",
    "**SE**\n",
    "1. Hepatitis B Surface Antigen (HBsAg), Rapid Card    \n",
    "2. Rheumatoid Factor (RF), Quantitative               \n",
    "3. HIV Antibody, Rapid Card                           \n",
    "4. Hepatitis C Antibody (HCV), Rapid Card              \n",
    "5. VDRL                                                \n",
    "6. WIDAL By Slide Agglutination \n",
    "\n",
    "**PL**\n",
    "1. Liver Function Test\n",
    "\n",
    "**CP**\n",
    "1. Urine Routine and Microscopic Examination"
   ]
  },
  {
   "cell_type": "code",
   "execution_count": null,
   "id": "856a1aff",
   "metadata": {},
   "outputs": [],
   "source": []
  }
 ],
 "metadata": {
  "kernelspec": {
   "display_name": "Python 3 (ipykernel)",
   "language": "python",
   "name": "python3"
  },
  "language_info": {
   "codemirror_mode": {
    "name": "ipython",
    "version": 3
   },
   "file_extension": ".py",
   "mimetype": "text/x-python",
   "name": "python",
   "nbconvert_exporter": "python",
   "pygments_lexer": "ipython3",
   "version": "3.11.3"
  }
 },
 "nbformat": 4,
 "nbformat_minor": 5
}
